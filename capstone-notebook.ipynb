{
 "cells": [
  {
   "cell_type": "markdown",
   "id": "f5d673b2",
   "metadata": {
    "papermill": {
     "duration": 0.01184,
     "end_time": "2023-05-10T20:29:34.915758",
     "exception": false,
     "start_time": "2023-05-10T20:29:34.903918",
     "status": "completed"
    },
    "tags": []
   },
   "source": [
    "# Capstone Project - Regression\n",
    "### by Andrew Ebenbach"
   ]
  },
  {
   "cell_type": "code",
   "execution_count": 1,
   "id": "c387b279",
   "metadata": {
    "execution": {
     "iopub.execute_input": "2023-05-10T20:29:34.941945Z",
     "iopub.status.busy": "2023-05-10T20:29:34.941016Z",
     "iopub.status.idle": "2023-05-10T20:29:36.777329Z",
     "shell.execute_reply": "2023-05-10T20:29:36.776051Z"
    },
    "papermill": {
     "duration": 1.852982,
     "end_time": "2023-05-10T20:29:36.780272",
     "exception": false,
     "start_time": "2023-05-10T20:29:34.927290",
     "status": "completed"
    },
    "tags": []
   },
   "outputs": [
    {
     "name": "stderr",
     "output_type": "stream",
     "text": [
      "/opt/conda/lib/python3.10/site-packages/scipy/__init__.py:146: UserWarning: A NumPy version >=1.16.5 and <1.23.0 is required for this version of SciPy (detected version 1.23.5\n",
      "  warnings.warn(f\"A NumPy version >={np_minversion} and <{np_maxversion}\"\n"
     ]
    }
   ],
   "source": [
    "import numpy as np\n",
    "import pandas as pd\n",
    "import random\n",
    "import os\n",
    "import itertools \n",
    "from sklearn.ensemble import RandomForestRegressor\n",
    "import seaborn as sns\n",
    "import matplotlib.pyplot as plt"
   ]
  },
  {
   "cell_type": "markdown",
   "id": "b6dd4a5f",
   "metadata": {
    "papermill": {
     "duration": 0.011673,
     "end_time": "2023-05-10T20:29:36.803863",
     "exception": false,
     "start_time": "2023-05-10T20:29:36.792190",
     "status": "completed"
    },
    "tags": []
   },
   "source": [
    "### Set Seed and constants"
   ]
  },
  {
   "cell_type": "code",
   "execution_count": 2,
   "id": "7a9e2fae",
   "metadata": {
    "execution": {
     "iopub.execute_input": "2023-05-10T20:29:36.829723Z",
     "iopub.status.busy": "2023-05-10T20:29:36.828916Z",
     "iopub.status.idle": "2023-05-10T20:29:36.834849Z",
     "shell.execute_reply": "2023-05-10T20:29:36.833828Z"
    },
    "papermill": {
     "duration": 0.021714,
     "end_time": "2023-05-10T20:29:36.837335",
     "exception": false,
     "start_time": "2023-05-10T20:29:36.815621",
     "status": "completed"
    },
    "tags": []
   },
   "outputs": [],
   "source": [
    "SEED = 13195176\n",
    "\n",
    "# Set the seed for numpy\n",
    "np.random.seed(SEED)\n",
    "# Set the seed for Python built-in random module\n",
    "random.seed(SEED)\n",
    "\n",
    "using_GPU = False"
   ]
  },
  {
   "cell_type": "markdown",
   "id": "fa432f93",
   "metadata": {
    "papermill": {
     "duration": 0.011263,
     "end_time": "2023-05-10T20:29:36.860336",
     "exception": false,
     "start_time": "2023-05-10T20:29:36.849073",
     "status": "completed"
    },
    "tags": []
   },
   "source": [
    "### Import and prepare data"
   ]
  },
  {
   "cell_type": "code",
   "execution_count": 3,
   "id": "86212e14",
   "metadata": {
    "execution": {
     "iopub.execute_input": "2023-05-10T20:29:36.885435Z",
     "iopub.status.busy": "2023-05-10T20:29:36.885058Z",
     "iopub.status.idle": "2023-05-10T20:31:37.267298Z",
     "shell.execute_reply": "2023-05-10T20:31:37.266059Z"
    },
    "papermill": {
     "duration": 120.409175,
     "end_time": "2023-05-10T20:31:37.281203",
     "exception": false,
     "start_time": "2023-05-10T20:29:36.872028",
     "status": "completed"
    },
    "tags": []
   },
   "outputs": [
    {
     "name": "stdout",
     "output_type": "stream",
     "text": [
      "   movie_id  user_id  rating        date\n",
      "0         1  1488844       3  2005-09-06\n",
      "1         1   822109       5  2005-05-13\n",
      "2         1   885013       4  2005-10-19\n",
      "3         1    30878       4  2005-12-26\n",
      "4         1   823519       3  2004-05-03\n"
     ]
    }
   ],
   "source": [
    "import pandas as pd\n",
    "\n",
    "def process_large_text_file(file_path):\n",
    "    data = []\n",
    "    review_counts = {}\n",
    "    current_integer = None\n",
    "    count = None\n",
    "    with open(file_path, 'r') as file:\n",
    "        for line in file:\n",
    "            line = line.strip()\n",
    "            if line.endswith(':'):\n",
    "                review_counts[current_integer] = count\n",
    "                \n",
    "                count=0\n",
    "                current_integer = int(line[:-1])\n",
    "            else:\n",
    "                count+=1\n",
    "                values = line.split(',')\n",
    "                assert len(values) == 3\n",
    "                data.append([current_integer, int(values[0]), int(values[1]), values[2]])\n",
    "\n",
    "        review_counts[current_integer] = count\n",
    "            \n",
    "    df = pd.DataFrame(data, columns=['movie_id', 'user_id', 'rating', 'date'])\n",
    "    return df, review_counts\n",
    "\n",
    "file_path = '/kaggle/input/capstone/data.txt'  # Replace with the path to your large text file\n",
    "data, review_counts_dict = process_large_text_file(file_path)\n",
    "print(data.head())\n"
   ]
  },
  {
   "cell_type": "code",
   "execution_count": 4,
   "id": "badcc35f",
   "metadata": {
    "execution": {
     "iopub.execute_input": "2023-05-10T20:31:37.306116Z",
     "iopub.status.busy": "2023-05-10T20:31:37.305741Z",
     "iopub.status.idle": "2023-05-10T20:31:44.419134Z",
     "shell.execute_reply": "2023-05-10T20:31:44.417593Z"
    },
    "papermill": {
     "duration": 7.129423,
     "end_time": "2023-05-10T20:31:44.422100",
     "exception": false,
     "start_time": "2023-05-10T20:31:37.292677",
     "status": "completed"
    },
    "tags": []
   },
   "outputs": [
    {
     "name": "stdout",
     "output_type": "stream",
     "text": [
      "   movie_id  user_id  rating        date  release_year            title\n",
      "0         1  1488844       3  2005-09-06        2003.0  Dinosaur Planet\n",
      "1         1   822109       5  2005-05-13        2003.0  Dinosaur Planet\n",
      "2         1   885013       4  2005-10-19        2003.0  Dinosaur Planet\n",
      "3         1    30878       4  2005-12-26        2003.0  Dinosaur Planet\n",
      "4         1   823519       3  2004-05-03        2003.0  Dinosaur Planet\n"
     ]
    }
   ],
   "source": [
    "movies = pd.read_csv('/kaggle/input/capstone/movieTitles.csv', header=None)\n",
    "movies.columns = ['movie_id', 'release_year','title','none1','none2']\n",
    "\n",
    "movies = movies.drop(['none1','none2'],axis=1) # there are only 5 movies with info in these columns\n",
    "data = pd.merge(data, movies, on='movie_id', how='left')\n",
    "print(data.head())"
   ]
  },
  {
   "cell_type": "markdown",
   "id": "860e3833",
   "metadata": {
    "papermill": {
     "duration": 0.011373,
     "end_time": "2023-05-10T20:31:44.445277",
     "exception": false,
     "start_time": "2023-05-10T20:31:44.433904",
     "status": "completed"
    },
    "tags": []
   },
   "source": [
    "### pre-split engineering\n",
    "(engineering across rows)"
   ]
  },
  {
   "cell_type": "code",
   "execution_count": 5,
   "id": "cad1e67d",
   "metadata": {
    "execution": {
     "iopub.execute_input": "2023-05-10T20:31:44.471111Z",
     "iopub.status.busy": "2023-05-10T20:31:44.470726Z",
     "iopub.status.idle": "2023-05-10T20:32:03.891448Z",
     "shell.execute_reply": "2023-05-10T20:32:03.890321Z"
    },
    "papermill": {
     "duration": 19.43688,
     "end_time": "2023-05-10T20:32:03.893728",
     "exception": false,
     "start_time": "2023-05-10T20:31:44.456848",
     "status": "completed"
    },
    "tags": []
   },
   "outputs": [
    {
     "data": {
      "text/html": [
       "<div>\n",
       "<style scoped>\n",
       "    .dataframe tbody tr th:only-of-type {\n",
       "        vertical-align: middle;\n",
       "    }\n",
       "\n",
       "    .dataframe tbody tr th {\n",
       "        vertical-align: top;\n",
       "    }\n",
       "\n",
       "    .dataframe thead th {\n",
       "        text-align: right;\n",
       "    }\n",
       "</style>\n",
       "<table border=\"1\" class=\"dataframe\">\n",
       "  <thead>\n",
       "    <tr style=\"text-align: right;\">\n",
       "      <th></th>\n",
       "      <th>movie_id</th>\n",
       "      <th>user_id</th>\n",
       "      <th>rating</th>\n",
       "      <th>movie_age</th>\n",
       "    </tr>\n",
       "  </thead>\n",
       "  <tbody>\n",
       "    <tr>\n",
       "      <th>0</th>\n",
       "      <td>1</td>\n",
       "      <td>1488844</td>\n",
       "      <td>3</td>\n",
       "      <td>2.0</td>\n",
       "    </tr>\n",
       "    <tr>\n",
       "      <th>1</th>\n",
       "      <td>1</td>\n",
       "      <td>822109</td>\n",
       "      <td>5</td>\n",
       "      <td>2.0</td>\n",
       "    </tr>\n",
       "    <tr>\n",
       "      <th>2</th>\n",
       "      <td>1</td>\n",
       "      <td>885013</td>\n",
       "      <td>4</td>\n",
       "      <td>2.0</td>\n",
       "    </tr>\n",
       "    <tr>\n",
       "      <th>3</th>\n",
       "      <td>1</td>\n",
       "      <td>30878</td>\n",
       "      <td>4</td>\n",
       "      <td>2.0</td>\n",
       "    </tr>\n",
       "    <tr>\n",
       "      <th>4</th>\n",
       "      <td>1</td>\n",
       "      <td>823519</td>\n",
       "      <td>3</td>\n",
       "      <td>1.0</td>\n",
       "    </tr>\n",
       "  </tbody>\n",
       "</table>\n",
       "</div>"
      ],
      "text/plain": [
       "   movie_id  user_id  rating  movie_age\n",
       "0         1  1488844       3        2.0\n",
       "1         1   822109       5        2.0\n",
       "2         1   885013       4        2.0\n",
       "3         1    30878       4        2.0\n",
       "4         1   823519       3        1.0"
      ]
     },
     "execution_count": 5,
     "metadata": {},
     "output_type": "execute_result"
    }
   ],
   "source": [
    "data['review_year'] = data['date'].str[:4].astype(int)\n",
    "data['movie_age'] = (data['review_year'] - data['release_year']).fillna(1000)\n",
    "\n",
    "drop_cols = ['title','date','review_year','release_year']\n",
    "data = data.drop(drop_cols, axis =1) # need to drop unused to save memory\n",
    "data.head()"
   ]
  },
  {
   "cell_type": "markdown",
   "id": "0fe3e0dd",
   "metadata": {
    "papermill": {
     "duration": 0.011695,
     "end_time": "2023-05-10T20:32:03.917511",
     "exception": false,
     "start_time": "2023-05-10T20:32:03.905816",
     "status": "completed"
    },
    "tags": []
   },
   "source": [
    "### performing the split"
   ]
  },
  {
   "cell_type": "code",
   "execution_count": 6,
   "id": "09177e71",
   "metadata": {
    "execution": {
     "iopub.execute_input": "2023-05-10T20:32:03.943866Z",
     "iopub.status.busy": "2023-05-10T20:32:03.943434Z",
     "iopub.status.idle": "2023-05-10T20:32:14.902827Z",
     "shell.execute_reply": "2023-05-10T20:32:14.901677Z"
    },
    "papermill": {
     "duration": 10.975479,
     "end_time": "2023-05-10T20:32:14.905288",
     "exception": false,
     "start_time": "2023-05-10T20:32:03.929809",
     "status": "completed"
    },
    "tags": []
   },
   "outputs": [
    {
     "name": "stdout",
     "output_type": "stream",
     "text": [
      "27000225\n",
      "5000\n",
      "5000\n"
     ]
    }
   ],
   "source": [
    "random.seed(SEED)\n",
    "\n",
    "lower_bound = 0 \n",
    "test_indexes = []\n",
    "val_indexes = []\n",
    "for movie_id in range(1,5001,1):\n",
    "    review_count = review_counts_dict[movie_id]\n",
    "    upper_bound = lower_bound+review_count\n",
    "    \n",
    "    chosen_test_idx = random.randint(lower_bound,upper_bound-1)\n",
    "    chosen_val_idx = random.randint(lower_bound,upper_bound-1)\n",
    "    while  chosen_test_idx == chosen_val_idx:\n",
    "        chosen_test_idx = random.randint(lower_bound,upper_bound-1)\n",
    "        chosen_val_idx = random.randint(lower_bound,upper_bound-1)\n",
    "    \n",
    "    test_indexes += [chosen_test_idx]\n",
    "    val_indexes+= [chosen_val_idx]\n",
    "    lower_bound = upper_bound\n",
    "    \n",
    "\n",
    "test_set = data.loc[test_indexes,:]\n",
    "train_set = data.drop(test_indexes)\n",
    "\n",
    "val_set = data.loc[val_indexes,:]\n",
    "train_set = train_set.drop(val_indexes)\n",
    "\n",
    "del data\n",
    "del review_counts_dict\n",
    "del movies\n",
    "\n",
    "print(len(train_set))\n",
    "print(len(val_set))\n",
    "print(len(test_set))"
   ]
  },
  {
   "cell_type": "markdown",
   "id": "90c678f3",
   "metadata": {
    "papermill": {
     "duration": 0.01172,
     "end_time": "2023-05-10T20:32:14.929440",
     "exception": false,
     "start_time": "2023-05-10T20:32:14.917720",
     "status": "completed"
    },
    "tags": []
   },
   "source": [
    "### Feature Engineering\n",
    "(engineering across rows and columns)"
   ]
  },
  {
   "cell_type": "code",
   "execution_count": 7,
   "id": "737ab8f3",
   "metadata": {
    "execution": {
     "iopub.execute_input": "2023-05-10T20:32:14.956121Z",
     "iopub.status.busy": "2023-05-10T20:32:14.955407Z",
     "iopub.status.idle": "2023-05-10T20:33:13.494187Z",
     "shell.execute_reply": "2023-05-10T20:33:13.493186Z"
    },
    "papermill": {
     "duration": 58.554968,
     "end_time": "2023-05-10T20:33:13.496615",
     "exception": false,
     "start_time": "2023-05-10T20:32:14.941647",
     "status": "completed"
    },
    "tags": []
   },
   "outputs": [
    {
     "name": "stdout",
     "output_type": "stream",
     "text": [
      "Done with primary transforms.\n",
      "Done with secondary transforms.\n"
     ]
    },
    {
     "data": {
      "text/html": [
       "<div>\n",
       "<style scoped>\n",
       "    .dataframe tbody tr th:only-of-type {\n",
       "        vertical-align: middle;\n",
       "    }\n",
       "\n",
       "    .dataframe tbody tr th {\n",
       "        vertical-align: top;\n",
       "    }\n",
       "\n",
       "    .dataframe thead th {\n",
       "        text-align: right;\n",
       "    }\n",
       "</style>\n",
       "<table border=\"1\" class=\"dataframe\">\n",
       "  <thead>\n",
       "    <tr style=\"text-align: right;\">\n",
       "      <th></th>\n",
       "      <th>movie_id</th>\n",
       "      <th>user_id</th>\n",
       "      <th>rating</th>\n",
       "      <th>movie_age</th>\n",
       "      <th>mean_movie_id_rating</th>\n",
       "      <th>mean_user_id_rating</th>\n",
       "      <th>count_movie_id_rating</th>\n",
       "      <th>std_movie_id_rating</th>\n",
       "      <th>count_user_id_rating</th>\n",
       "      <th>std_user_id_rating</th>\n",
       "      <th>disagreement</th>\n",
       "      <th>mean_user_id_disagreement</th>\n",
       "    </tr>\n",
       "  </thead>\n",
       "  <tbody>\n",
       "    <tr>\n",
       "      <th>0</th>\n",
       "      <td>1</td>\n",
       "      <td>1488844</td>\n",
       "      <td>3</td>\n",
       "      <td>2.0</td>\n",
       "      <td>3.750459</td>\n",
       "      <td>3.253333</td>\n",
       "      <td>545</td>\n",
       "      <td>1.069344</td>\n",
       "      <td>600</td>\n",
       "      <td>0.820738</td>\n",
       "      <td>0.750459</td>\n",
       "      <td>0.677371</td>\n",
       "    </tr>\n",
       "    <tr>\n",
       "      <th>1</th>\n",
       "      <td>1</td>\n",
       "      <td>822109</td>\n",
       "      <td>5</td>\n",
       "      <td>2.0</td>\n",
       "      <td>3.750459</td>\n",
       "      <td>4.024390</td>\n",
       "      <td>545</td>\n",
       "      <td>1.069344</td>\n",
       "      <td>41</td>\n",
       "      <td>0.821213</td>\n",
       "      <td>1.249541</td>\n",
       "      <td>0.775371</td>\n",
       "    </tr>\n",
       "    <tr>\n",
       "      <th>2</th>\n",
       "      <td>1</td>\n",
       "      <td>885013</td>\n",
       "      <td>4</td>\n",
       "      <td>2.0</td>\n",
       "      <td>3.750459</td>\n",
       "      <td>3.905263</td>\n",
       "      <td>545</td>\n",
       "      <td>1.069344</td>\n",
       "      <td>95</td>\n",
       "      <td>0.990097</td>\n",
       "      <td>0.249541</td>\n",
       "      <td>0.692751</td>\n",
       "    </tr>\n",
       "    <tr>\n",
       "      <th>3</th>\n",
       "      <td>1</td>\n",
       "      <td>30878</td>\n",
       "      <td>4</td>\n",
       "      <td>2.0</td>\n",
       "      <td>3.750459</td>\n",
       "      <td>3.638177</td>\n",
       "      <td>545</td>\n",
       "      <td>1.069344</td>\n",
       "      <td>351</td>\n",
       "      <td>0.819492</td>\n",
       "      <td>0.249541</td>\n",
       "      <td>0.583848</td>\n",
       "    </tr>\n",
       "    <tr>\n",
       "      <th>4</th>\n",
       "      <td>1</td>\n",
       "      <td>823519</td>\n",
       "      <td>3</td>\n",
       "      <td>1.0</td>\n",
       "      <td>3.750459</td>\n",
       "      <td>3.898305</td>\n",
       "      <td>545</td>\n",
       "      <td>1.069344</td>\n",
       "      <td>177</td>\n",
       "      <td>0.839946</td>\n",
       "      <td>0.750459</td>\n",
       "      <td>0.681124</td>\n",
       "    </tr>\n",
       "    <tr>\n",
       "      <th>...</th>\n",
       "      <td>...</td>\n",
       "      <td>...</td>\n",
       "      <td>...</td>\n",
       "      <td>...</td>\n",
       "      <td>...</td>\n",
       "      <td>...</td>\n",
       "      <td>...</td>\n",
       "      <td>...</td>\n",
       "      <td>...</td>\n",
       "      <td>...</td>\n",
       "      <td>...</td>\n",
       "      <td>...</td>\n",
       "    </tr>\n",
       "    <tr>\n",
       "      <th>27010220</th>\n",
       "      <td>5000</td>\n",
       "      <td>2415316</td>\n",
       "      <td>3</td>\n",
       "      <td>10.0</td>\n",
       "      <td>3.131461</td>\n",
       "      <td>3.309524</td>\n",
       "      <td>890</td>\n",
       "      <td>1.148981</td>\n",
       "      <td>42</td>\n",
       "      <td>0.896826</td>\n",
       "      <td>0.131461</td>\n",
       "      <td>0.777769</td>\n",
       "    </tr>\n",
       "    <tr>\n",
       "      <th>27010221</th>\n",
       "      <td>5000</td>\n",
       "      <td>1619362</td>\n",
       "      <td>3</td>\n",
       "      <td>11.0</td>\n",
       "      <td>3.131461</td>\n",
       "      <td>3.236025</td>\n",
       "      <td>890</td>\n",
       "      <td>1.148981</td>\n",
       "      <td>322</td>\n",
       "      <td>0.701716</td>\n",
       "      <td>0.131461</td>\n",
       "      <td>0.515803</td>\n",
       "    </tr>\n",
       "    <tr>\n",
       "      <th>27010222</th>\n",
       "      <td>5000</td>\n",
       "      <td>453585</td>\n",
       "      <td>4</td>\n",
       "      <td>11.0</td>\n",
       "      <td>3.131461</td>\n",
       "      <td>3.463320</td>\n",
       "      <td>890</td>\n",
       "      <td>1.148981</td>\n",
       "      <td>518</td>\n",
       "      <td>0.942037</td>\n",
       "      <td>0.868539</td>\n",
       "      <td>0.754012</td>\n",
       "    </tr>\n",
       "    <tr>\n",
       "      <th>27010223</th>\n",
       "      <td>5000</td>\n",
       "      <td>477466</td>\n",
       "      <td>3</td>\n",
       "      <td>11.0</td>\n",
       "      <td>3.131461</td>\n",
       "      <td>3.355372</td>\n",
       "      <td>890</td>\n",
       "      <td>1.148981</td>\n",
       "      <td>363</td>\n",
       "      <td>1.162438</td>\n",
       "      <td>0.131461</td>\n",
       "      <td>0.932881</td>\n",
       "    </tr>\n",
       "    <tr>\n",
       "      <th>27010224</th>\n",
       "      <td>5000</td>\n",
       "      <td>177123</td>\n",
       "      <td>4</td>\n",
       "      <td>11.0</td>\n",
       "      <td>3.131461</td>\n",
       "      <td>4.172840</td>\n",
       "      <td>890</td>\n",
       "      <td>1.148981</td>\n",
       "      <td>243</td>\n",
       "      <td>0.717954</td>\n",
       "      <td>0.868539</td>\n",
       "      <td>0.764815</td>\n",
       "    </tr>\n",
       "  </tbody>\n",
       "</table>\n",
       "<p>27000225 rows × 12 columns</p>\n",
       "</div>"
      ],
      "text/plain": [
       "          movie_id  user_id  rating  movie_age  mean_movie_id_rating  \\\n",
       "0                1  1488844       3        2.0              3.750459   \n",
       "1                1   822109       5        2.0              3.750459   \n",
       "2                1   885013       4        2.0              3.750459   \n",
       "3                1    30878       4        2.0              3.750459   \n",
       "4                1   823519       3        1.0              3.750459   \n",
       "...            ...      ...     ...        ...                   ...   \n",
       "27010220      5000  2415316       3       10.0              3.131461   \n",
       "27010221      5000  1619362       3       11.0              3.131461   \n",
       "27010222      5000   453585       4       11.0              3.131461   \n",
       "27010223      5000   477466       3       11.0              3.131461   \n",
       "27010224      5000   177123       4       11.0              3.131461   \n",
       "\n",
       "          mean_user_id_rating  count_movie_id_rating  std_movie_id_rating  \\\n",
       "0                    3.253333                    545             1.069344   \n",
       "1                    4.024390                    545             1.069344   \n",
       "2                    3.905263                    545             1.069344   \n",
       "3                    3.638177                    545             1.069344   \n",
       "4                    3.898305                    545             1.069344   \n",
       "...                       ...                    ...                  ...   \n",
       "27010220             3.309524                    890             1.148981   \n",
       "27010221             3.236025                    890             1.148981   \n",
       "27010222             3.463320                    890             1.148981   \n",
       "27010223             3.355372                    890             1.148981   \n",
       "27010224             4.172840                    890             1.148981   \n",
       "\n",
       "          count_user_id_rating  std_user_id_rating  disagreement  \\\n",
       "0                          600            0.820738      0.750459   \n",
       "1                           41            0.821213      1.249541   \n",
       "2                           95            0.990097      0.249541   \n",
       "3                          351            0.819492      0.249541   \n",
       "4                          177            0.839946      0.750459   \n",
       "...                        ...                 ...           ...   \n",
       "27010220                    42            0.896826      0.131461   \n",
       "27010221                   322            0.701716      0.131461   \n",
       "27010222                   518            0.942037      0.868539   \n",
       "27010223                   363            1.162438      0.131461   \n",
       "27010224                   243            0.717954      0.868539   \n",
       "\n",
       "          mean_user_id_disagreement  \n",
       "0                          0.677371  \n",
       "1                          0.775371  \n",
       "2                          0.692751  \n",
       "3                          0.583848  \n",
       "4                          0.681124  \n",
       "...                             ...  \n",
       "27010220                   0.777769  \n",
       "27010221                   0.515803  \n",
       "27010222                   0.754012  \n",
       "27010223                   0.932881  \n",
       "27010224                   0.764815  \n",
       "\n",
       "[27000225 rows x 12 columns]"
      ]
     },
     "execution_count": 7,
     "metadata": {},
     "output_type": "execute_result"
    }
   ],
   "source": [
    "class TransformFeature():\n",
    "    def __init__(self, groupby_col, transform_col, feature='mean' ):\n",
    "        self.groupby_col = groupby_col\n",
    "        self.transform_col = transform_col\n",
    "        self.feature = feature\n",
    "    \n",
    "    def fit_transform(self, df_org):\n",
    "        df = df_org.copy()\n",
    "        if type(self.groupby_col) == list:\n",
    "            col_name = f'{self.feature}_{\"_\".join(self.groupby_col)}_{self.transform_col}'\n",
    "        else:\n",
    "            col_name = f'{self.feature}_{self.groupby_col}_{self.transform_col}'\n",
    "            \n",
    "        df[col_name] = train_set.groupby(self.groupby_col)[self.transform_col].transform(self.feature)\n",
    "        if type(self.groupby_col) == list:\n",
    "            self.uniques = df[[*self.groupby_col,col_name]].groupby(self.groupby_col)[col_name].mean()\n",
    "        else:\n",
    "            self.uniques = df[[self.groupby_col,col_name]].groupby(self.groupby_col)[col_name].mean()\n",
    "        return df\n",
    "    def transform(self, df_org):\n",
    "        df = df_org.copy()\n",
    "        merged_df = pd.merge(df, self.uniques, on=self.groupby_col, how='left')\n",
    "        return merged_df\n",
    "\n",
    "# Primary transforms\n",
    "# Typical rating for the movie\n",
    "mean_movie = TransformFeature(groupby_col='movie_id', \n",
    "                                  transform_col='rating', feature='mean')\n",
    "# Typical rating by the user\n",
    "mean_user = TransformFeature(groupby_col='user_id', \n",
    "                                  transform_col='rating', feature='mean')\n",
    "# Popularity of the movie\n",
    "count_review = TransformFeature(groupby_col='movie_id', \n",
    "                                  transform_col='rating', feature='count')\n",
    "# User Activeness\n",
    "count_review_user = TransformFeature(groupby_col='user_id', \n",
    "                                  transform_col='rating', feature='count')\n",
    "\n",
    "# Controversialness of the movie\n",
    "rating_std = TransformFeature(groupby_col='movie_id', \n",
    "                                  transform_col='rating', feature='std')\n",
    "# Extremity of the user\n",
    "rating_std_user = TransformFeature(groupby_col='user_id', \n",
    "                                  transform_col='rating', feature='std')\n",
    "\n",
    "\n",
    "train_set = mean_movie.fit_transform(train_set).fillna(3) #Nans are filled with my prior expectations\n",
    "train_set = mean_user.fit_transform(train_set).fillna(3)\n",
    "train_set = count_review.fit_transform(train_set).fillna(0)\n",
    "train_set = rating_std.fit_transform(train_set).fillna(1)\n",
    "train_set = count_review_user.fit_transform(train_set).fillna(0)\n",
    "train_set = rating_std_user.fit_transform(train_set).fillna(1)\n",
    "\n",
    "val_set = mean_movie.transform(val_set).fillna(3) \n",
    "val_set = mean_user.transform(val_set).fillna(3)\n",
    "val_set = count_review.transform(val_set).fillna(0)\n",
    "val_set = rating_std.transform(val_set).fillna(1)\n",
    "val_set = count_review_user.transform(val_set).fillna(0)\n",
    "val_set = rating_std_user.transform(val_set).fillna(1)\n",
    "\n",
    "test_set = mean_movie.transform(test_set).fillna(3)\n",
    "test_set = mean_user.transform(test_set).fillna(3)\n",
    "test_set = count_review.transform(test_set).fillna(0)\n",
    "test_set = rating_std.transform(test_set).fillna(1)\n",
    "test_set = count_review_user.transform(test_set).fillna(0)\n",
    "test_set = rating_std_user.transform(test_set).fillna(1)\n",
    "\n",
    "print('Done with primary transforms.')\n",
    "# Secondary transforms\n",
    "\n",
    "train_set[\"disagreement\"] = abs(train_set['rating'] - train_set['mean_movie_id_rating'])\n",
    "\n",
    "# Group think vs contrarian\n",
    "rating_std = TransformFeature(groupby_col='user_id', \n",
    "                                  transform_col='disagreement', feature='mean')\n",
    "\n",
    "train_set = rating_std.fit_transform(train_set).fillna(1)\n",
    "\n",
    "val_set = rating_std.transform(val_set).fillna(1)\n",
    "\n",
    "test_set = rating_std.transform(test_set).fillna(1)\n",
    "\n",
    "print('Done with secondary transforms.')\n",
    "\n",
    "train_set"
   ]
  },
  {
   "cell_type": "code",
   "execution_count": 8,
   "id": "30700293",
   "metadata": {
    "execution": {
     "iopub.execute_input": "2023-05-10T20:33:13.523998Z",
     "iopub.status.busy": "2023-05-10T20:33:13.523579Z",
     "iopub.status.idle": "2023-05-10T20:33:13.547458Z",
     "shell.execute_reply": "2023-05-10T20:33:13.546312Z"
    },
    "papermill": {
     "duration": 0.040558,
     "end_time": "2023-05-10T20:33:13.549872",
     "exception": false,
     "start_time": "2023-05-10T20:33:13.509314",
     "status": "completed"
    },
    "tags": []
   },
   "outputs": [
    {
     "data": {
      "text/html": [
       "<div>\n",
       "<style scoped>\n",
       "    .dataframe tbody tr th:only-of-type {\n",
       "        vertical-align: middle;\n",
       "    }\n",
       "\n",
       "    .dataframe tbody tr th {\n",
       "        vertical-align: top;\n",
       "    }\n",
       "\n",
       "    .dataframe thead th {\n",
       "        text-align: right;\n",
       "    }\n",
       "</style>\n",
       "<table border=\"1\" class=\"dataframe\">\n",
       "  <thead>\n",
       "    <tr style=\"text-align: right;\">\n",
       "      <th></th>\n",
       "      <th>movie_id</th>\n",
       "      <th>user_id</th>\n",
       "      <th>rating</th>\n",
       "      <th>movie_age</th>\n",
       "      <th>mean_movie_id_rating</th>\n",
       "      <th>mean_user_id_rating</th>\n",
       "      <th>count_movie_id_rating</th>\n",
       "      <th>std_movie_id_rating</th>\n",
       "      <th>count_user_id_rating</th>\n",
       "      <th>std_user_id_rating</th>\n",
       "      <th>mean_user_id_disagreement</th>\n",
       "    </tr>\n",
       "  </thead>\n",
       "  <tbody>\n",
       "    <tr>\n",
       "      <th>0</th>\n",
       "      <td>1</td>\n",
       "      <td>1008986</td>\n",
       "      <td>4</td>\n",
       "      <td>1.0</td>\n",
       "      <td>3.750459</td>\n",
       "      <td>3.684524</td>\n",
       "      <td>545.0</td>\n",
       "      <td>1.069344</td>\n",
       "      <td>168.0</td>\n",
       "      <td>0.666925</td>\n",
       "      <td>0.539624</td>\n",
       "    </tr>\n",
       "    <tr>\n",
       "      <th>1</th>\n",
       "      <td>2</td>\n",
       "      <td>1636093</td>\n",
       "      <td>5</td>\n",
       "      <td>1.0</td>\n",
       "      <td>3.552448</td>\n",
       "      <td>3.879518</td>\n",
       "      <td>143.0</td>\n",
       "      <td>1.281935</td>\n",
       "      <td>166.0</td>\n",
       "      <td>0.711764</td>\n",
       "      <td>0.614867</td>\n",
       "    </tr>\n",
       "    <tr>\n",
       "      <th>2</th>\n",
       "      <td>3</td>\n",
       "      <td>1924500</td>\n",
       "      <td>2</td>\n",
       "      <td>6.0</td>\n",
       "      <td>3.641791</td>\n",
       "      <td>3.597865</td>\n",
       "      <td>2010.0</td>\n",
       "      <td>0.977112</td>\n",
       "      <td>281.0</td>\n",
       "      <td>1.101231</td>\n",
       "      <td>0.812541</td>\n",
       "    </tr>\n",
       "    <tr>\n",
       "      <th>3</th>\n",
       "      <td>4</td>\n",
       "      <td>722591</td>\n",
       "      <td>4</td>\n",
       "      <td>10.0</td>\n",
       "      <td>2.714286</td>\n",
       "      <td>4.475113</td>\n",
       "      <td>140.0</td>\n",
       "      <td>1.293513</td>\n",
       "      <td>1105.0</td>\n",
       "      <td>0.659082</td>\n",
       "      <td>1.020698</td>\n",
       "    </tr>\n",
       "    <tr>\n",
       "      <th>4</th>\n",
       "      <td>5</td>\n",
       "      <td>799442</td>\n",
       "      <td>4</td>\n",
       "      <td>1.0</td>\n",
       "      <td>3.919156</td>\n",
       "      <td>3.311005</td>\n",
       "      <td>1138.0</td>\n",
       "      <td>1.293568</td>\n",
       "      <td>418.0</td>\n",
       "      <td>1.160469</td>\n",
       "      <td>0.964772</td>\n",
       "    </tr>\n",
       "    <tr>\n",
       "      <th>...</th>\n",
       "      <td>...</td>\n",
       "      <td>...</td>\n",
       "      <td>...</td>\n",
       "      <td>...</td>\n",
       "      <td>...</td>\n",
       "      <td>...</td>\n",
       "      <td>...</td>\n",
       "      <td>...</td>\n",
       "      <td>...</td>\n",
       "      <td>...</td>\n",
       "      <td>...</td>\n",
       "    </tr>\n",
       "    <tr>\n",
       "      <th>4995</th>\n",
       "      <td>4996</td>\n",
       "      <td>1903321</td>\n",
       "      <td>1</td>\n",
       "      <td>5.0</td>\n",
       "      <td>3.475175</td>\n",
       "      <td>3.347826</td>\n",
       "      <td>151845.0</td>\n",
       "      <td>1.116356</td>\n",
       "      <td>23.0</td>\n",
       "      <td>1.640640</td>\n",
       "      <td>1.216173</td>\n",
       "    </tr>\n",
       "    <tr>\n",
       "      <th>4996</th>\n",
       "      <td>4997</td>\n",
       "      <td>1460449</td>\n",
       "      <td>2</td>\n",
       "      <td>0.0</td>\n",
       "      <td>2.341317</td>\n",
       "      <td>3.172932</td>\n",
       "      <td>167.0</td>\n",
       "      <td>1.068568</td>\n",
       "      <td>133.0</td>\n",
       "      <td>1.215501</td>\n",
       "      <td>0.863237</td>\n",
       "    </tr>\n",
       "    <tr>\n",
       "      <th>4997</th>\n",
       "      <td>4998</td>\n",
       "      <td>2208519</td>\n",
       "      <td>3</td>\n",
       "      <td>55.0</td>\n",
       "      <td>3.117500</td>\n",
       "      <td>2.966825</td>\n",
       "      <td>400.0</td>\n",
       "      <td>1.027781</td>\n",
       "      <td>422.0</td>\n",
       "      <td>1.017117</td>\n",
       "      <td>0.880833</td>\n",
       "    </tr>\n",
       "    <tr>\n",
       "      <th>4998</th>\n",
       "      <td>4999</td>\n",
       "      <td>582792</td>\n",
       "      <td>3</td>\n",
       "      <td>2.0</td>\n",
       "      <td>2.918182</td>\n",
       "      <td>2.703704</td>\n",
       "      <td>440.0</td>\n",
       "      <td>1.022586</td>\n",
       "      <td>162.0</td>\n",
       "      <td>1.020832</td>\n",
       "      <td>0.952684</td>\n",
       "    </tr>\n",
       "    <tr>\n",
       "      <th>4999</th>\n",
       "      <td>5000</td>\n",
       "      <td>2465246</td>\n",
       "      <td>3</td>\n",
       "      <td>7.0</td>\n",
       "      <td>3.131461</td>\n",
       "      <td>3.883721</td>\n",
       "      <td>890.0</td>\n",
       "      <td>1.148981</td>\n",
       "      <td>86.0</td>\n",
       "      <td>0.987196</td>\n",
       "      <td>0.688394</td>\n",
       "    </tr>\n",
       "  </tbody>\n",
       "</table>\n",
       "<p>5000 rows × 11 columns</p>\n",
       "</div>"
      ],
      "text/plain": [
       "      movie_id  user_id  rating  movie_age  mean_movie_id_rating  \\\n",
       "0            1  1008986       4        1.0              3.750459   \n",
       "1            2  1636093       5        1.0              3.552448   \n",
       "2            3  1924500       2        6.0              3.641791   \n",
       "3            4   722591       4       10.0              2.714286   \n",
       "4            5   799442       4        1.0              3.919156   \n",
       "...        ...      ...     ...        ...                   ...   \n",
       "4995      4996  1903321       1        5.0              3.475175   \n",
       "4996      4997  1460449       2        0.0              2.341317   \n",
       "4997      4998  2208519       3       55.0              3.117500   \n",
       "4998      4999   582792       3        2.0              2.918182   \n",
       "4999      5000  2465246       3        7.0              3.131461   \n",
       "\n",
       "      mean_user_id_rating  count_movie_id_rating  std_movie_id_rating  \\\n",
       "0                3.684524                  545.0             1.069344   \n",
       "1                3.879518                  143.0             1.281935   \n",
       "2                3.597865                 2010.0             0.977112   \n",
       "3                4.475113                  140.0             1.293513   \n",
       "4                3.311005                 1138.0             1.293568   \n",
       "...                   ...                    ...                  ...   \n",
       "4995             3.347826               151845.0             1.116356   \n",
       "4996             3.172932                  167.0             1.068568   \n",
       "4997             2.966825                  400.0             1.027781   \n",
       "4998             2.703704                  440.0             1.022586   \n",
       "4999             3.883721                  890.0             1.148981   \n",
       "\n",
       "      count_user_id_rating  std_user_id_rating  mean_user_id_disagreement  \n",
       "0                    168.0            0.666925                   0.539624  \n",
       "1                    166.0            0.711764                   0.614867  \n",
       "2                    281.0            1.101231                   0.812541  \n",
       "3                   1105.0            0.659082                   1.020698  \n",
       "4                    418.0            1.160469                   0.964772  \n",
       "...                    ...                 ...                        ...  \n",
       "4995                  23.0            1.640640                   1.216173  \n",
       "4996                 133.0            1.215501                   0.863237  \n",
       "4997                 422.0            1.017117                   0.880833  \n",
       "4998                 162.0            1.020832                   0.952684  \n",
       "4999                  86.0            0.987196                   0.688394  \n",
       "\n",
       "[5000 rows x 11 columns]"
      ]
     },
     "execution_count": 8,
     "metadata": {},
     "output_type": "execute_result"
    }
   ],
   "source": [
    "val_set"
   ]
  },
  {
   "cell_type": "markdown",
   "id": "c1f172df",
   "metadata": {
    "papermill": {
     "duration": 0.012874,
     "end_time": "2023-05-10T20:33:13.575885",
     "exception": false,
     "start_time": "2023-05-10T20:33:13.563011",
     "status": "completed"
    },
    "tags": []
   },
   "source": [
    "### Measuring User Similairity\n",
    "First, we need to downsample"
   ]
  },
  {
   "cell_type": "code",
   "execution_count": 9,
   "id": "cac4953f",
   "metadata": {
    "execution": {
     "iopub.execute_input": "2023-05-10T20:33:13.604094Z",
     "iopub.status.busy": "2023-05-10T20:33:13.603346Z",
     "iopub.status.idle": "2023-05-10T20:33:22.163756Z",
     "shell.execute_reply": "2023-05-10T20:33:22.162471Z"
    },
    "papermill": {
     "duration": 8.577505,
     "end_time": "2023-05-10T20:33:22.166434",
     "exception": false,
     "start_time": "2023-05-10T20:33:13.588929",
     "status": "completed"
    },
    "tags": []
   },
   "outputs": [
    {
     "data": {
      "image/png": "[encoded data removed]",
      "text/plain": [
       "<Figure size 1200x600 with 2 Axes>"
      ]
     },
     "metadata": {},
     "output_type": "display_data"
    }
   ],
   "source": [
    "import seaborn as sns\n",
    "import matplotlib.pyplot as plt\n",
    "\n",
    "fig, ax = plt.subplots(1, 2, figsize=(12, 6))\n",
    "\n",
    "# Plot the histograms\n",
    "sns.histplot(count_review.uniques, ax=ax[0], kde=True)\n",
    "sns.histplot(count_review_user.uniques, ax=ax[1], kde=True)\n",
    "\n",
    "# Set plot titles\n",
    "ax[0].set_title('Movie Review Count Distribution')\n",
    "ax[1].set_title('User Review Count Distribution')\n",
    "\n",
    "# Display the plot\n",
    "plt.show()"
   ]
  },
  {
   "cell_type": "code",
   "execution_count": 10,
   "id": "35469426",
   "metadata": {
    "execution": {
     "iopub.execute_input": "2023-05-10T20:33:22.196907Z",
     "iopub.status.busy": "2023-05-10T20:33:22.195966Z",
     "iopub.status.idle": "2023-05-10T20:33:22.203089Z",
     "shell.execute_reply": "2023-05-10T20:33:22.201832Z"
    },
    "papermill": {
     "duration": 0.026696,
     "end_time": "2023-05-10T20:33:22.207291",
     "exception": false,
     "start_time": "2023-05-10T20:33:22.180595",
     "status": "completed"
    },
    "tags": []
   },
   "outputs": [
    {
     "name": "stdout",
     "output_type": "stream",
     "text": [
      "Proportion of movies left at 6250 count threshold: 0.1502\n"
     ]
    }
   ],
   "source": [
    "threshold_count = 6250\n",
    "print(f'Proportion of movies left at {threshold_count} count threshold: {np.mean(count_review.uniques> threshold_count)}')\n",
    "threshold_count_user = 0# unused feature"
   ]
  },
  {
   "cell_type": "code",
   "execution_count": 11,
   "id": "f6eb3d33",
   "metadata": {
    "execution": {
     "iopub.execute_input": "2023-05-10T20:33:22.237124Z",
     "iopub.status.busy": "2023-05-10T20:33:22.236756Z",
     "iopub.status.idle": "2023-05-10T20:33:25.801580Z",
     "shell.execute_reply": "2023-05-10T20:33:25.800597Z"
    },
    "papermill": {
     "duration": 3.582511,
     "end_time": "2023-05-10T20:33:25.803813",
     "exception": false,
     "start_time": "2023-05-10T20:33:22.221302",
     "status": "completed"
    },
    "tags": []
   },
   "outputs": [
    {
     "name": "stdout",
     "output_type": "stream",
     "text": [
      "Reviews remaining: 22844255\n"
     ]
    },
    {
     "data": {
      "text/plain": [
       "469562"
      ]
     },
     "execution_count": 11,
     "metadata": {},
     "output_type": "execute_result"
    }
   ],
   "source": [
    "super_users = count_review_user.uniques> threshold_count_user\n",
    "super_movies = count_review.uniques > threshold_count\n",
    "\n",
    "super_movie_ids = super_movies[super_movies].index\n",
    "super_user_ids = super_users[super_users].index\n",
    "\n",
    "# Filter the dataframe using the isin() function\n",
    "filtered_df = train_set[(train_set['movie_id'].isin(super_movie_ids)) & (train_set['user_id'].isin(super_user_ids))]\n",
    "\n",
    "print('Reviews remaining:', len(filtered_df))\n",
    "len(filtered_df['user_id'].unique())"
   ]
  },
  {
   "cell_type": "code",
   "execution_count": 12,
   "id": "ae598e85",
   "metadata": {
    "execution": {
     "iopub.execute_input": "2023-05-10T20:33:25.834313Z",
     "iopub.status.busy": "2023-05-10T20:33:25.833912Z",
     "iopub.status.idle": "2023-05-10T20:34:52.432243Z",
     "shell.execute_reply": "2023-05-10T20:34:52.430978Z"
    },
    "papermill": {
     "duration": 86.636727,
     "end_time": "2023-05-10T20:34:52.455081",
     "exception": false,
     "start_time": "2023-05-10T20:33:25.818354",
     "status": "completed"
    },
    "tags": []
   },
   "outputs": [
    {
     "name": "stdout",
     "output_type": "stream",
     "text": [
      "movie_id  8     17    18    28    30    33    44    46    58    77    ...  \\\n",
      "user_id                                                               ...   \n",
      "6            0     0     0     0     3     0     0     0     0     0  ...   \n",
      "7            5     0     0     4     5     0     0     0     0     0  ...   \n",
      "8            0     0     0     0     0     0     0     0     0     0  ...   \n",
      "10           0     0     0     0     0     0     0     0     0     0  ...   \n",
      "25           0     0     0     0     0     0     0     0     0     0  ...   \n",
      "\n",
      "movie_id  4931  4932  4949  4951  4956  4972  4977  4978  4995  4996  \n",
      "user_id                                                               \n",
      "6            3     0     0     0     0     0     0     0     0     3  \n",
      "7            3     4     0     4     0     3     3     0     0     3  \n",
      "8            0     0     0     0     0     0     0     0     0     4  \n",
      "10           0     0     2     0     0     0     0     0     0     0  \n",
      "25           0     0     0     0     0     0     0     0     0     2  \n",
      "\n",
      "[5 rows x 751 columns]\n"
     ]
    }
   ],
   "source": [
    "# Create viewing history records for each user\n",
    "pivot_table = filtered_df.pivot_table(index='user_id', columns='movie_id', values='rating', fill_value=0)\n",
    "\n",
    "\n",
    "print(pivot_table.head())"
   ]
  },
  {
   "cell_type": "code",
   "execution_count": 13,
   "id": "57701fa3",
   "metadata": {
    "execution": {
     "iopub.execute_input": "2023-05-10T20:34:52.488265Z",
     "iopub.status.busy": "2023-05-10T20:34:52.487744Z",
     "iopub.status.idle": "2023-05-10T20:36:03.671992Z",
     "shell.execute_reply": "2023-05-10T20:36:03.670836Z"
    },
    "papermill": {
     "duration": 71.204978,
     "end_time": "2023-05-10T20:36:03.674635",
     "exception": false,
     "start_time": "2023-05-10T20:34:52.469657",
     "status": "completed"
    },
    "tags": []
   },
   "outputs": [
    {
     "name": "stdout",
     "output_type": "stream",
     "text": [
      "16\n"
     ]
    },
    {
     "data": {
      "image/png": "[encoded data removed]",
      "text/plain": [
       "<Figure size 640x480 with 1 Axes>"
      ]
     },
     "metadata": {},
     "output_type": "display_data"
    }
   ],
   "source": [
    "from sklearn.decomposition import PCA\n",
    "\n",
    "pca = PCA()\n",
    "\n",
    "pca.fit(pivot_table)\n",
    "\n",
    "pca_results = pca.explained_variance_ratio_\n",
    "over_2 = len(pca_results[pca_results > .005])\n",
    "print(over_2)\n",
    "\n",
    "\n",
    "ax = sns.histplot(pca_results[:over_2],  kde=True)\n",
    "ax.set_xlabel('% Variance Explained', fontsize=14)\n",
    "\n",
    "# Set plot titles\n",
    "ax.set_title('PCA components explained variance')\n",
    "\n",
    "# Display the plot\n",
    "plt.show()"
   ]
  },
  {
   "cell_type": "code",
   "execution_count": 14,
   "id": "be85526f",
   "metadata": {
    "execution": {
     "iopub.execute_input": "2023-05-10T20:36:03.707068Z",
     "iopub.status.busy": "2023-05-10T20:36:03.706683Z",
     "iopub.status.idle": "2023-05-10T20:36:34.020334Z",
     "shell.execute_reply": "2023-05-10T20:36:34.019190Z"
    },
    "papermill": {
     "duration": 30.34884,
     "end_time": "2023-05-10T20:36:34.038735",
     "exception": false,
     "start_time": "2023-05-10T20:36:03.689895",
     "status": "completed"
    },
    "tags": []
   },
   "outputs": [
    {
     "data": {
      "image/png": "[encoded data removed]",
      "text/plain": [
       "<Figure size 640x480 with 1 Axes>"
      ]
     },
     "metadata": {},
     "output_type": "display_data"
    }
   ],
   "source": [
    "pca = PCA(over_2)\n",
    "\n",
    "pca_users = pca.fit_transform(pivot_table)\n",
    "\n",
    "plt.scatter(pca_users[:1000,0], pca_users[:1000,1])\n",
    "# Set labels for axes\n",
    "plt.xlabel('pca1', fontsize=14)\n",
    "plt.ylabel('pca2', fontsize=14)\n",
    "\n",
    "# Set the title\n",
    "plt.title('Visualizing PCA', fontsize=16)\n",
    "\n",
    "# Display the plot\n",
    "plt.show()"
   ]
  },
  {
   "cell_type": "code",
   "execution_count": 15,
   "id": "fbd06e7b",
   "metadata": {
    "execution": {
     "iopub.execute_input": "2023-05-10T20:36:34.071858Z",
     "iopub.status.busy": "2023-05-10T20:36:34.071168Z",
     "iopub.status.idle": "2023-05-10T20:36:49.360576Z",
     "shell.execute_reply": "2023-05-10T20:36:49.359559Z"
    },
    "papermill": {
     "duration": 15.308727,
     "end_time": "2023-05-10T20:36:49.362932",
     "exception": false,
     "start_time": "2023-05-10T20:36:34.054205",
     "status": "completed"
    },
    "tags": []
   },
   "outputs": [
    {
     "name": "stderr",
     "output_type": "stream",
     "text": [
      "/opt/conda/lib/python3.10/site-packages/sklearn/cluster/_kmeans.py:870: FutureWarning: The default value of `n_init` will change from 10 to 'auto' in 1.4. Set the value of `n_init` explicitly to suppress the warning\n",
      "  warnings.warn(\n"
     ]
    },
    {
     "name": "stdout",
     "output_type": "stream",
     "text": [
      "45533707.27667945\n"
     ]
    },
    {
     "data": {
      "image/png": "[encoded data removed]",
      "text/plain": [
       "<Figure size 640x480 with 1 Axes>"
      ]
     },
     "metadata": {},
     "output_type": "display_data"
    }
   ],
   "source": [
    "from sklearn.cluster import KMeans\n",
    "\n",
    "kmeans = KMeans(n_clusters=8, random_state=SEED)\n",
    "\n",
    "labels_pca = kmeans.fit_predict(pca_users)\n",
    "print(kmeans.inertia_)\n",
    "\n",
    "# create scatter plot using seaborn\n",
    "sns.scatterplot(x=pca_users[:1000,0],y= pca_users[:1000,1], hue=labels_pca[:1000].astype(str))\n",
    "\n",
    "# add title and axis labels\n",
    "plt.title(f\"Clustered Pca\")\n",
    "plt.xlabel(\"Dim 1\")\n",
    "plt.ylabel(\"Dim 2\")\n",
    "\n",
    "# display plot\n",
    "plt.show()"
   ]
  },
  {
   "cell_type": "code",
   "execution_count": 16,
   "id": "1ecff431",
   "metadata": {
    "execution": {
     "iopub.execute_input": "2023-05-10T20:36:49.399663Z",
     "iopub.status.busy": "2023-05-10T20:36:49.399254Z",
     "iopub.status.idle": "2023-05-10T20:37:15.479646Z",
     "shell.execute_reply": "2023-05-10T20:37:15.478592Z"
    },
    "papermill": {
     "duration": 26.101532,
     "end_time": "2023-05-10T20:37:15.482093",
     "exception": false,
     "start_time": "2023-05-10T20:36:49.380561",
     "status": "completed"
    },
    "tags": []
   },
   "outputs": [
    {
     "data": {
      "text/html": [
       "<div>\n",
       "<style scoped>\n",
       "    .dataframe tbody tr th:only-of-type {\n",
       "        vertical-align: middle;\n",
       "    }\n",
       "\n",
       "    .dataframe tbody tr th {\n",
       "        vertical-align: top;\n",
       "    }\n",
       "\n",
       "    .dataframe thead th {\n",
       "        text-align: right;\n",
       "    }\n",
       "</style>\n",
       "<table border=\"1\" class=\"dataframe\">\n",
       "  <thead>\n",
       "    <tr style=\"text-align: right;\">\n",
       "      <th></th>\n",
       "      <th>movie_id</th>\n",
       "      <th>user_id</th>\n",
       "      <th>rating</th>\n",
       "      <th>movie_age</th>\n",
       "      <th>mean_movie_id_rating</th>\n",
       "      <th>mean_user_id_rating</th>\n",
       "      <th>count_movie_id_rating</th>\n",
       "      <th>std_movie_id_rating</th>\n",
       "      <th>count_user_id_rating</th>\n",
       "      <th>std_user_id_rating</th>\n",
       "      <th>disagreement</th>\n",
       "      <th>mean_user_id_disagreement</th>\n",
       "      <th>user_cluster</th>\n",
       "      <th>mean_user_cluster_movie_id_rating</th>\n",
       "      <th>count_user_cluster_movie_id_rating</th>\n",
       "    </tr>\n",
       "  </thead>\n",
       "  <tbody>\n",
       "    <tr>\n",
       "      <th>0</th>\n",
       "      <td>1</td>\n",
       "      <td>1488844</td>\n",
       "      <td>3</td>\n",
       "      <td>2.0</td>\n",
       "      <td>3.750459</td>\n",
       "      <td>3.253333</td>\n",
       "      <td>545</td>\n",
       "      <td>1.069344</td>\n",
       "      <td>600</td>\n",
       "      <td>0.820738</td>\n",
       "      <td>0.750459</td>\n",
       "      <td>0.677371</td>\n",
       "      <td>6.0</td>\n",
       "      <td>3.714286</td>\n",
       "      <td>126</td>\n",
       "    </tr>\n",
       "    <tr>\n",
       "      <th>1</th>\n",
       "      <td>1</td>\n",
       "      <td>822109</td>\n",
       "      <td>5</td>\n",
       "      <td>2.0</td>\n",
       "      <td>3.750459</td>\n",
       "      <td>4.024390</td>\n",
       "      <td>545</td>\n",
       "      <td>1.069344</td>\n",
       "      <td>41</td>\n",
       "      <td>0.821213</td>\n",
       "      <td>1.249541</td>\n",
       "      <td>0.775371</td>\n",
       "      <td>5.0</td>\n",
       "      <td>4.000000</td>\n",
       "      <td>46</td>\n",
       "    </tr>\n",
       "    <tr>\n",
       "      <th>2</th>\n",
       "      <td>1</td>\n",
       "      <td>885013</td>\n",
       "      <td>4</td>\n",
       "      <td>2.0</td>\n",
       "      <td>3.750459</td>\n",
       "      <td>3.905263</td>\n",
       "      <td>545</td>\n",
       "      <td>1.069344</td>\n",
       "      <td>95</td>\n",
       "      <td>0.990097</td>\n",
       "      <td>0.249541</td>\n",
       "      <td>0.692751</td>\n",
       "      <td>0.0</td>\n",
       "      <td>3.880000</td>\n",
       "      <td>125</td>\n",
       "    </tr>\n",
       "    <tr>\n",
       "      <th>3</th>\n",
       "      <td>1</td>\n",
       "      <td>30878</td>\n",
       "      <td>4</td>\n",
       "      <td>2.0</td>\n",
       "      <td>3.750459</td>\n",
       "      <td>3.638177</td>\n",
       "      <td>545</td>\n",
       "      <td>1.069344</td>\n",
       "      <td>351</td>\n",
       "      <td>0.819492</td>\n",
       "      <td>0.249541</td>\n",
       "      <td>0.583848</td>\n",
       "      <td>6.0</td>\n",
       "      <td>3.714286</td>\n",
       "      <td>126</td>\n",
       "    </tr>\n",
       "    <tr>\n",
       "      <th>4</th>\n",
       "      <td>1</td>\n",
       "      <td>823519</td>\n",
       "      <td>3</td>\n",
       "      <td>1.0</td>\n",
       "      <td>3.750459</td>\n",
       "      <td>3.898305</td>\n",
       "      <td>545</td>\n",
       "      <td>1.069344</td>\n",
       "      <td>177</td>\n",
       "      <td>0.839946</td>\n",
       "      <td>0.750459</td>\n",
       "      <td>0.681124</td>\n",
       "      <td>7.0</td>\n",
       "      <td>3.824561</td>\n",
       "      <td>57</td>\n",
       "    </tr>\n",
       "  </tbody>\n",
       "</table>\n",
       "</div>"
      ],
      "text/plain": [
       "   movie_id  user_id  rating  movie_age  mean_movie_id_rating  \\\n",
       "0         1  1488844       3        2.0              3.750459   \n",
       "1         1   822109       5        2.0              3.750459   \n",
       "2         1   885013       4        2.0              3.750459   \n",
       "3         1    30878       4        2.0              3.750459   \n",
       "4         1   823519       3        1.0              3.750459   \n",
       "\n",
       "   mean_user_id_rating  count_movie_id_rating  std_movie_id_rating  \\\n",
       "0             3.253333                    545             1.069344   \n",
       "1             4.024390                    545             1.069344   \n",
       "2             3.905263                    545             1.069344   \n",
       "3             3.638177                    545             1.069344   \n",
       "4             3.898305                    545             1.069344   \n",
       "\n",
       "   count_user_id_rating  std_user_id_rating  disagreement  \\\n",
       "0                   600            0.820738      0.750459   \n",
       "1                    41            0.821213      1.249541   \n",
       "2                    95            0.990097      0.249541   \n",
       "3                   351            0.819492      0.249541   \n",
       "4                   177            0.839946      0.750459   \n",
       "\n",
       "   mean_user_id_disagreement  user_cluster  mean_user_cluster_movie_id_rating  \\\n",
       "0                   0.677371           6.0                           3.714286   \n",
       "1                   0.775371           5.0                           4.000000   \n",
       "2                   0.692751           0.0                           3.880000   \n",
       "3                   0.583848           6.0                           3.714286   \n",
       "4                   0.681124           7.0                           3.824561   \n",
       "\n",
       "   count_user_cluster_movie_id_rating  \n",
       "0                                 126  \n",
       "1                                  46  \n",
       "2                                 125  \n",
       "3                                 126  \n",
       "4                                  57  "
      ]
     },
     "execution_count": 16,
     "metadata": {},
     "output_type": "execute_result"
    }
   ],
   "source": [
    "user_cluster = pd.Series(labels_pca, index = pivot_table.index)\n",
    "\n",
    "del pivot_table\n",
    "del pca_users\n",
    "del filtered_df\n",
    "\n",
    "train_set['user_cluster'] = train_set['user_id'].map(user_cluster).fillna(99)\n",
    "\n",
    "val_set['user_cluster'] = val_set['user_id'].map(user_cluster).fillna(99)\n",
    "\n",
    "test_set['user_cluster'] = test_set['user_id'].map(user_cluster).fillna(99)\n",
    "\n",
    "# What similar users rated the movie\n",
    "similar_user = TransformFeature(groupby_col=['user_cluster','movie_id'], \n",
    "                                  transform_col='rating', feature='mean')\n",
    "# How man similar users rated the movie\n",
    "similar_user_count = TransformFeature(groupby_col=['user_cluster','movie_id'], \n",
    "                                  transform_col='rating', feature='count')\n",
    "\n",
    "\n",
    "\n",
    "train_set = similar_user.fit_transform(train_set).fillna(3)\n",
    "train_set = similar_user_count.fit_transform(train_set).fillna(0)\n",
    "\n",
    "val_set = similar_user.transform(val_set).fillna(3)\n",
    "val_set = similar_user_count.transform(val_set).fillna(0)\n",
    "\n",
    "test_set = similar_user.transform(test_set).fillna(3)\n",
    "test_set = similar_user_count.transform(test_set).fillna(0)\n",
    "\n",
    "train_set.head()"
   ]
  },
  {
   "cell_type": "markdown",
   "id": "ca95f083",
   "metadata": {
    "papermill": {
     "duration": 0.017178,
     "end_time": "2023-05-10T20:37:15.517366",
     "exception": false,
     "start_time": "2023-05-10T20:37:15.500188",
     "status": "completed"
    },
    "tags": []
   },
   "source": [
    "### Baseline"
   ]
  },
  {
   "cell_type": "code",
   "execution_count": 17,
   "id": "d2f65f2e",
   "metadata": {
    "execution": {
     "iopub.execute_input": "2023-05-10T20:37:15.555150Z",
     "iopub.status.busy": "2023-05-10T20:37:15.554238Z",
     "iopub.status.idle": "2023-05-10T20:37:15.562406Z",
     "shell.execute_reply": "2023-05-10T20:37:15.561522Z"
    },
    "papermill": {
     "duration": 0.02924,
     "end_time": "2023-05-10T20:37:15.564551",
     "exception": false,
     "start_time": "2023-05-10T20:37:15.535311",
     "status": "completed"
    },
    "tags": []
   },
   "outputs": [
    {
     "data": {
      "text/plain": [
       "1.113883190394858"
      ]
     },
     "execution_count": 17,
     "metadata": {},
     "output_type": "execute_result"
    }
   ],
   "source": [
    "from sklearn.metrics import mean_squared_error\n",
    "\n",
    "mean_squared_error(val_set.rating, val_set.mean_movie_id_rating, squared=False)"
   ]
  },
  {
   "cell_type": "markdown",
   "id": "eeaa2952",
   "metadata": {
    "papermill": {
     "duration": 0.017499,
     "end_time": "2023-05-10T20:37:15.599807",
     "exception": false,
     "start_time": "2023-05-10T20:37:15.582308",
     "status": "completed"
    },
    "tags": []
   },
   "source": [
    "### Initial Model"
   ]
  },
  {
   "cell_type": "code",
   "execution_count": 18,
   "id": "ffc3fe42",
   "metadata": {
    "execution": {
     "iopub.execute_input": "2023-05-10T20:37:15.637349Z",
     "iopub.status.busy": "2023-05-10T20:37:15.636665Z",
     "iopub.status.idle": "2023-05-10T20:37:15.641252Z",
     "shell.execute_reply": "2023-05-10T20:37:15.640525Z"
    },
    "papermill": {
     "duration": 0.025687,
     "end_time": "2023-05-10T20:37:15.643245",
     "exception": false,
     "start_time": "2023-05-10T20:37:15.617558",
     "status": "completed"
    },
    "tags": []
   },
   "outputs": [],
   "source": [
    "predictors = ['mean_movie_id_rating','mean_user_id_rating','movie_age','count_user_id_rating',\n",
    "              'count_movie_id_rating','std_movie_id_rating','std_user_id_rating','mean_user_id_disagreement',\n",
    "             'user_cluster',\"mean_user_cluster_movie_id_rating\", \"count_user_cluster_movie_id_rating\"]\n",
    "target = 'rating'"
   ]
  },
  {
   "cell_type": "code",
   "execution_count": 19,
   "id": "79a616cb",
   "metadata": {
    "execution": {
     "iopub.execute_input": "2023-05-10T20:37:15.680343Z",
     "iopub.status.busy": "2023-05-10T20:37:15.679655Z",
     "iopub.status.idle": "2023-05-10T21:47:33.888181Z",
     "shell.execute_reply": "2023-05-10T21:47:33.885796Z"
    },
    "papermill": {
     "duration": 4218.25361,
     "end_time": "2023-05-10T21:47:33.914278",
     "exception": false,
     "start_time": "2023-05-10T20:37:15.660668",
     "status": "completed"
    },
    "tags": []
   },
   "outputs": [
    {
     "data": {
      "text/html": [
       "<style>#sk-container-id-1 {color: black;background-color: white;}#sk-container-id-1 pre{padding: 0;}#sk-container-id-1 div.sk-toggleable {background-color: white;}#sk-container-id-1 label.sk-toggleable__label {cursor: pointer;display: block;width: 100%;margin-bottom: 0;padding: 0.3em;box-sizing: border-box;text-align: center;}#sk-container-id-1 label.sk-toggleable__label-arrow:before {content: \"▸\";float: left;margin-right: 0.25em;color: #696969;}#sk-container-id-1 label.sk-toggleable__label-arrow:hover:before {color: black;}#sk-container-id-1 div.sk-estimator:hover label.sk-toggleable__label-arrow:before {color: black;}#sk-container-id-1 div.sk-toggleable__content {max-height: 0;max-width: 0;overflow: hidden;text-align: left;background-color: #f0f8ff;}#sk-container-id-1 div.sk-toggleable__content pre {margin: 0.2em;color: black;border-radius: 0.25em;background-color: #f0f8ff;}#sk-container-id-1 input.sk-toggleable__control:checked~div.sk-toggleable__content {max-height: 200px;max-width: 100%;overflow: auto;}#sk-container-id-1 input.sk-toggleable__control:checked~label.sk-toggleable__label-arrow:before {content: \"▾\";}#sk-container-id-1 div.sk-estimator input.sk-toggleable__control:checked~label.sk-toggleable__label {background-color: #d4ebff;}#sk-container-id-1 div.sk-label input.sk-toggleable__control:checked~label.sk-toggleable__label {background-color: #d4ebff;}#sk-container-id-1 input.sk-hidden--visually {border: 0;clip: rect(1px 1px 1px 1px);clip: rect(1px, 1px, 1px, 1px);height: 1px;margin: -1px;overflow: hidden;padding: 0;position: absolute;width: 1px;}#sk-container-id-1 div.sk-estimator {font-family: monospace;background-color: #f0f8ff;border: 1px dotted black;border-radius: 0.25em;box-sizing: border-box;margin-bottom: 0.5em;}#sk-container-id-1 div.sk-estimator:hover {background-color: #d4ebff;}#sk-container-id-1 div.sk-parallel-item::after {content: \"\";width: 100%;border-bottom: 1px solid gray;flex-grow: 1;}#sk-container-id-1 div.sk-label:hover label.sk-toggleable__label {background-color: #d4ebff;}#sk-container-id-1 div.sk-serial::before {content: \"\";position: absolute;border-left: 1px solid gray;box-sizing: border-box;top: 0;bottom: 0;left: 50%;z-index: 0;}#sk-container-id-1 div.sk-serial {display: flex;flex-direction: column;align-items: center;background-color: white;padding-right: 0.2em;padding-left: 0.2em;position: relative;}#sk-container-id-1 div.sk-item {position: relative;z-index: 1;}#sk-container-id-1 div.sk-parallel {display: flex;align-items: stretch;justify-content: center;background-color: white;position: relative;}#sk-container-id-1 div.sk-item::before, #sk-container-id-1 div.sk-parallel-item::before {content: \"\";position: absolute;border-left: 1px solid gray;box-sizing: border-box;top: 0;bottom: 0;left: 50%;z-index: -1;}#sk-container-id-1 div.sk-parallel-item {display: flex;flex-direction: column;z-index: 1;position: relative;background-color: white;}#sk-container-id-1 div.sk-parallel-item:first-child::after {align-self: flex-end;width: 50%;}#sk-container-id-1 div.sk-parallel-item:last-child::after {align-self: flex-start;width: 50%;}#sk-container-id-1 div.sk-parallel-item:only-child::after {width: 0;}#sk-container-id-1 div.sk-dashed-wrapped {border: 1px dashed gray;margin: 0 0.4em 0.5em 0.4em;box-sizing: border-box;padding-bottom: 0.4em;background-color: white;}#sk-container-id-1 div.sk-label label {font-family: monospace;font-weight: bold;display: inline-block;line-height: 1.2em;}#sk-container-id-1 div.sk-label-container {text-align: center;}#sk-container-id-1 div.sk-container {/* jupyter's `normalize.less` sets `[hidden] { display: none; }` but bootstrap.min.css set `[hidden] { display: none !important; }` so we also need the `!important` here to be able to override the default hidden behavior on the sphinx rendered scikit-learn.org. See: https://github.com/scikit-learn/scikit-learn/issues/21755 */display: inline-block !important;position: relative;}#sk-container-id-1 div.sk-text-repr-fallback {display: none;}</style><div id=\"sk-container-id-1\" class=\"sk-top-container\"><div class=\"sk-text-repr-fallback\"><pre>RandomForestRegressor(max_depth=5, n_jobs=-1)</pre><b>In a Jupyter environment, please rerun this cell to show the HTML representation or trust the notebook. <br />On GitHub, the HTML representation is unable to render, please try loading this page with nbviewer.org.</b></div><div class=\"sk-container\" hidden><div class=\"sk-item\"><div class=\"sk-estimator sk-toggleable\"><input class=\"sk-toggleable__control sk-hidden--visually\" id=\"sk-estimator-id-1\" type=\"checkbox\" checked><label for=\"sk-estimator-id-1\" class=\"sk-toggleable__label sk-toggleable__label-arrow\">RandomForestRegressor</label><div class=\"sk-toggleable__content\"><pre>RandomForestRegressor(max_depth=5, n_jobs=-1)</pre></div></div></div></div></div>"
      ],
      "text/plain": [
       "RandomForestRegressor(max_depth=5, n_jobs=-1)"
      ]
     },
     "execution_count": 19,
     "metadata": {},
     "output_type": "execute_result"
    }
   ],
   "source": [
    "\n",
    "# define the RandomForestRegressor hyperparameters as a dictionary\n",
    "rfr_params = {'n_estimators': 100,\n",
    "              'max_depth': 5,\n",
    "              'n_jobs' : -1\n",
    "             }\n",
    "\n",
    "# construct the RandomForestRegressor regressor model using the defined hyperparameters\n",
    "model = RandomForestRegressor(**rfr_params)\n",
    "\n",
    "X_train  =  train_set[predictors]\n",
    "y_train = train_set[target]\n",
    "\n",
    "X_val = val_set[predictors]\n",
    "y_val = val_set[target]\n",
    "\n",
    "model.fit(X_train, y_train)"
   ]
  },
  {
   "cell_type": "code",
   "execution_count": 20,
   "id": "50c33cdc",
   "metadata": {
    "execution": {
     "iopub.execute_input": "2023-05-10T21:47:33.955203Z",
     "iopub.status.busy": "2023-05-10T21:47:33.954259Z",
     "iopub.status.idle": "2023-05-10T21:47:34.005835Z",
     "shell.execute_reply": "2023-05-10T21:47:34.004702Z"
    },
    "papermill": {
     "duration": 0.075463,
     "end_time": "2023-05-10T21:47:34.008378",
     "exception": false,
     "start_time": "2023-05-10T21:47:33.932915",
     "status": "completed"
    },
    "tags": []
   },
   "outputs": [
    {
     "name": "stdout",
     "output_type": "stream",
     "text": [
      "1.0039620367451791\n"
     ]
    }
   ],
   "source": [
    "val_preds = model.predict(X_val)\n",
    "\n",
    "rmse_all = mean_squared_error(y_val, val_preds, squared=False)\n",
    "print(rmse_all)"
   ]
  },
  {
   "cell_type": "markdown",
   "id": "837b4985",
   "metadata": {
    "papermill": {
     "duration": 0.017624,
     "end_time": "2023-05-10T21:47:34.044807",
     "exception": false,
     "start_time": "2023-05-10T21:47:34.027183",
     "status": "completed"
    },
    "tags": []
   },
   "source": [
    "### Finding the most important features"
   ]
  },
  {
   "cell_type": "code",
   "execution_count": 21,
   "id": "be1c7a9b",
   "metadata": {
    "execution": {
     "iopub.execute_input": "2023-05-10T21:47:34.083556Z",
     "iopub.status.busy": "2023-05-10T21:47:34.082550Z",
     "iopub.status.idle": "2023-05-10T21:47:34.512199Z",
     "shell.execute_reply": "2023-05-10T21:47:34.511220Z"
    },
    "papermill": {
     "duration": 0.451745,
     "end_time": "2023-05-10T21:47:34.514791",
     "exception": false,
     "start_time": "2023-05-10T21:47:34.063046",
     "status": "completed"
    },
    "tags": []
   },
   "outputs": [],
   "source": [
    "\n",
    "col_names = X_val.columns.tolist()\n",
    "rmse_shuffles = []\n",
    "\n",
    "# loop through each predictor\n",
    "for col in col_names:\n",
    "    # shuffle the values in the column\n",
    "    X_shuffled = X_val.copy()\n",
    "    X_shuffled[col] = np.random.permutation(X_shuffled[col])\n",
    "    \n",
    "\n",
    "    y_pred = model.predict(X_shuffled)\n",
    "\n",
    "    rmse_shuffle = mean_squared_error(y_val, y_pred, squared=False)\n",
    "    rmse_shuffles.append(rmse_shuffle)\n",
    "\n",
    "# calculate the difference between the RMSE with all predictors and each predictor shuffle\n",
    "rmse_diffs = [ rmse_all-  rmse_shuffle for rmse_shuffle in rmse_shuffles]"
   ]
  },
  {
   "cell_type": "code",
   "execution_count": 22,
   "id": "fa4c783d",
   "metadata": {
    "execution": {
     "iopub.execute_input": "2023-05-10T21:47:34.553823Z",
     "iopub.status.busy": "2023-05-10T21:47:34.553417Z",
     "iopub.status.idle": "2023-05-10T21:47:34.826283Z",
     "shell.execute_reply": "2023-05-10T21:47:34.824989Z"
    },
    "papermill": {
     "duration": 0.296245,
     "end_time": "2023-05-10T21:47:34.829292",
     "exception": false,
     "start_time": "2023-05-10T21:47:34.533047",
     "status": "completed"
    },
    "tags": []
   },
   "outputs": [
    {
     "data": {
      "image/png": "[encoded data removed]",
      "text/plain": [
       "<Figure size 640x480 with 1 Axes>"
      ]
     },
     "metadata": {},
     "output_type": "display_data"
    }
   ],
   "source": [
    "# create a bar chart to show the differences\n",
    "fig, ax = plt.subplots()\n",
    "ax.bar(col_names, rmse_diffs)\n",
    "ax.set_xlabel('Predictor')\n",
    "ax.set_ylabel('Difference in RMSE')\n",
    "ax.set_title('Effect of shuffling each predictor on RMSE')\n",
    "plt.xticks(rotation=90)\n",
    "plt.show()"
   ]
  },
  {
   "cell_type": "code",
   "execution_count": 23,
   "id": "137c7421",
   "metadata": {
    "execution": {
     "iopub.execute_input": "2023-05-10T21:47:34.870237Z",
     "iopub.status.busy": "2023-05-10T21:47:34.869855Z",
     "iopub.status.idle": "2023-05-10T21:47:35.555623Z",
     "shell.execute_reply": "2023-05-10T21:47:35.554471Z"
    },
    "papermill": {
     "duration": 0.709025,
     "end_time": "2023-05-10T21:47:35.558015",
     "exception": false,
     "start_time": "2023-05-10T21:47:34.848990",
     "status": "completed"
    },
    "tags": []
   },
   "outputs": [
    {
     "name": "stdout",
     "output_type": "stream",
     "text": [
      "Dropped:  8\n",
      "Remaining Predictors:  ['mean_user_id_rating', 'count_movie_id_rating', 'mean_user_cluster_movie_id_rating']\n"
     ]
    }
   ],
   "source": [
    "# Filter any useless predictors\n",
    "filtered_predictors = [col_names[j] for j, diff in enumerate(rmse_diffs) if diff < 0]\n",
    "\n",
    "X_train  =  train_set[filtered_predictors]\n",
    "y_train = train_set[target]\n",
    "\n",
    "X_val = val_set[filtered_predictors]\n",
    "y_val = val_set[target]\n",
    "\n",
    "print(\"Dropped: \", len(predictors) - len(filtered_predictors))\n",
    "print(\"Remaining Predictors: \", filtered_predictors)"
   ]
  },
  {
   "cell_type": "markdown",
   "id": "ec512a6f",
   "metadata": {
    "papermill": {
     "duration": 0.019241,
     "end_time": "2023-05-10T21:47:35.596917",
     "exception": false,
     "start_time": "2023-05-10T21:47:35.577676",
     "status": "completed"
    },
    "tags": []
   },
   "source": [
    "### Finding the best Hyperparams"
   ]
  },
  {
   "cell_type": "code",
   "execution_count": 24,
   "id": "e855c606",
   "metadata": {
    "execution": {
     "iopub.execute_input": "2023-05-10T21:47:35.637552Z",
     "iopub.status.busy": "2023-05-10T21:47:35.637103Z",
     "iopub.status.idle": "2023-05-10T22:55:46.109642Z",
     "shell.execute_reply": "2023-05-10T22:55:46.107842Z"
    },
    "papermill": {
     "duration": 4090.515708,
     "end_time": "2023-05-10T22:55:46.132079",
     "exception": false,
     "start_time": "2023-05-10T21:47:35.616371",
     "status": "completed"
    },
    "tags": []
   },
   "outputs": [
    {
     "name": "stdout",
     "output_type": "stream",
     "text": [
      "Max Depth:  1 N Estimators:  10 Val RMSE:  1.1744290315929344\n",
      "Max Depth:  3 N Estimators:  10 Val RMSE:  1.0638591109634483\n",
      "Max Depth:  5 N Estimators:  10 Val RMSE:  1.0044381664886652\n",
      "Max Depth:  1 N Estimators:  50 Val RMSE:  1.1692898025319358\n",
      "Max Depth:  3 N Estimators:  50 Val RMSE:  1.0641152904833193\n",
      "Max Depth:  5 N Estimators:  50 Val RMSE:  1.0039567159486404\n",
      "Max Depth:  1 N Estimators:  100 Val RMSE:  1.1734878821388584\n",
      "Max Depth:  3 N Estimators:  100 Val RMSE:  1.0641398385999064\n",
      "Max Depth:  5 N Estimators:  100 Val RMSE:  1.0037301620529095\n"
     ]
    }
   ],
   "source": [
    "n_estimators = [10,50, 100]\n",
    "depths = [1,3,5]\n",
    "\n",
    "best_model=None\n",
    "best_rmse = 1000\n",
    "for estimator_count in n_estimators:\n",
    "    rfr_params['n_estimators'] = estimator_count\n",
    "    for depth in depths:\n",
    "        rfr_params['max_depth'] = depth\n",
    "        model = RandomForestRegressor(**rfr_params)\n",
    "        model.fit(X_train, y_train)\n",
    "        val_preds = model.predict(X_val)\n",
    "        rmse = mean_squared_error(y_val, val_preds, squared=False)\n",
    "        print(\"Max Depth: \",depth,\"N Estimators: \" ,estimator_count,\"Val RMSE: \" ,rmse)\n",
    "        \n",
    "        if rmse < best_rmse:\n",
    "            best_model = model\n",
    "            best_rmse = rmse\n",
    "        else:\n",
    "            del model\n",
    "        "
   ]
  },
  {
   "cell_type": "markdown",
   "id": "0e284f2b",
   "metadata": {
    "papermill": {
     "duration": 0.0208,
     "end_time": "2023-05-10T22:55:46.173622",
     "exception": false,
     "start_time": "2023-05-10T22:55:46.152822",
     "status": "completed"
    },
    "tags": []
   },
   "source": [
    "### Final Results"
   ]
  },
  {
   "cell_type": "code",
   "execution_count": 25,
   "id": "85a59d34",
   "metadata": {
    "execution": {
     "iopub.execute_input": "2023-05-10T22:55:46.217323Z",
     "iopub.status.busy": "2023-05-10T22:55:46.216843Z",
     "iopub.status.idle": "2023-05-10T22:55:46.271497Z",
     "shell.execute_reply": "2023-05-10T22:55:46.270266Z"
    },
    "papermill": {
     "duration": 0.080457,
     "end_time": "2023-05-10T22:55:46.274177",
     "exception": false,
     "start_time": "2023-05-10T22:55:46.193720",
     "status": "completed"
    },
    "tags": []
   },
   "outputs": [
    {
     "name": "stdout",
     "output_type": "stream",
     "text": [
      "Final RMSE:  1.0129159568792057\n"
     ]
    }
   ],
   "source": [
    "X_test = test_set[filtered_predictors]\n",
    "y_test = test_set[target]\n",
    "\n",
    "test_preds = best_model.predict(X_test)\n",
    "\n",
    "rmse_test = mean_squared_error(y_test, test_preds, squared=False)\n",
    "print(\"Final RMSE: \",rmse_test)"
   ]
  },
  {
   "cell_type": "markdown",
   "id": "cd0e4b19",
   "metadata": {
    "papermill": {
     "duration": 0.02034,
     "end_time": "2023-05-10T22:55:46.316156",
     "exception": false,
     "start_time": "2023-05-10T22:55:46.295816",
     "status": "completed"
    },
    "tags": []
   },
   "source": [
    "### EC:\n",
    "\n",
    "Understanding the clusters"
   ]
  },
  {
   "cell_type": "code",
   "execution_count": 26,
   "id": "6095ec90",
   "metadata": {
    "execution": {
     "iopub.execute_input": "2023-05-10T22:55:46.360206Z",
     "iopub.status.busy": "2023-05-10T22:55:46.359331Z",
     "iopub.status.idle": "2023-05-10T22:55:46.389707Z",
     "shell.execute_reply": "2023-05-10T22:55:46.388722Z"
    },
    "papermill": {
     "duration": 0.055916,
     "end_time": "2023-05-10T22:55:46.392269",
     "exception": false,
     "start_time": "2023-05-10T22:55:46.336353",
     "status": "completed"
    },
    "tags": []
   },
   "outputs": [],
   "source": [
    "# load movies back in\n",
    "movies = pd.read_csv('/kaggle/input/capstone/movieTitles.csv', header=None)\n",
    "movies.columns = ['movie_id', 'release_year','title','none1','none2']\n",
    "\n",
    "movies = movies.drop(['none1','none2'],axis=1)"
   ]
  },
  {
   "cell_type": "code",
   "execution_count": 27,
   "id": "1cd0e603",
   "metadata": {
    "execution": {
     "iopub.execute_input": "2023-05-10T22:55:46.436691Z",
     "iopub.status.busy": "2023-05-10T22:55:46.435399Z",
     "iopub.status.idle": "2023-05-10T22:55:56.534536Z",
     "shell.execute_reply": "2023-05-10T22:55:56.533692Z"
    },
    "papermill": {
     "duration": 10.123504,
     "end_time": "2023-05-10T22:55:56.536808",
     "exception": false,
     "start_time": "2023-05-10T22:55:46.413304",
     "status": "completed"
    },
    "tags": []
   },
   "outputs": [
    {
     "data": {
      "text/html": [
       "<div>\n",
       "<style scoped>\n",
       "    .dataframe tbody tr th:only-of-type {\n",
       "        vertical-align: middle;\n",
       "    }\n",
       "\n",
       "    .dataframe tbody tr th {\n",
       "        vertical-align: top;\n",
       "    }\n",
       "\n",
       "    .dataframe thead th {\n",
       "        text-align: right;\n",
       "    }\n",
       "</style>\n",
       "<table border=\"1\" class=\"dataframe\">\n",
       "  <thead>\n",
       "    <tr style=\"text-align: right;\">\n",
       "      <th></th>\n",
       "      <th>Top Movie 1</th>\n",
       "      <th>Top Movie 2</th>\n",
       "      <th>Top Movie 3</th>\n",
       "      <th>Average Review Count</th>\n",
       "      <th>Average Review Count per Movie</th>\n",
       "      <th>Average User Rating</th>\n",
       "    </tr>\n",
       "    <tr>\n",
       "      <th>Cluster</th>\n",
       "      <th></th>\n",
       "      <th></th>\n",
       "      <th></th>\n",
       "      <th></th>\n",
       "      <th></th>\n",
       "      <th></th>\n",
       "    </tr>\n",
       "  </thead>\n",
       "  <tbody>\n",
       "    <tr>\n",
       "      <th>0.0</th>\n",
       "      <td>Gone in 60 Seconds</td>\n",
       "      <td>What Women Want</td>\n",
       "      <td>The Wedding Planner</td>\n",
       "      <td>24.622804</td>\n",
       "      <td>62097.228741</td>\n",
       "      <td>3.591293</td>\n",
       "    </tr>\n",
       "    <tr>\n",
       "      <th>1.0</th>\n",
       "      <td>American Beauty</td>\n",
       "      <td>Being John Malkovich</td>\n",
       "      <td>Pirates of the Caribbean: The Curse of the Bla...</td>\n",
       "      <td>106.401336</td>\n",
       "      <td>54970.103202</td>\n",
       "      <td>3.582122</td>\n",
       "    </tr>\n",
       "    <tr>\n",
       "      <th>2.0</th>\n",
       "      <td>Pirates of the Caribbean: The Curse of the Bla...</td>\n",
       "      <td>What Women Want</td>\n",
       "      <td>Erin Brockovich</td>\n",
       "      <td>158.463017</td>\n",
       "      <td>56517.301854</td>\n",
       "      <td>3.640403</td>\n",
       "    </tr>\n",
       "    <tr>\n",
       "      <th>3.0</th>\n",
       "      <td>Pirates of the Caribbean: The Curse of the Bla...</td>\n",
       "      <td>Man on Fire</td>\n",
       "      <td>The Bourne Supremacy</td>\n",
       "      <td>62.911289</td>\n",
       "      <td>69791.729144</td>\n",
       "      <td>3.603279</td>\n",
       "    </tr>\n",
       "    <tr>\n",
       "      <th>4.0</th>\n",
       "      <td>American Beauty</td>\n",
       "      <td>The Silence of the Lambs</td>\n",
       "      <td>The Sixth Sense</td>\n",
       "      <td>293.766760</td>\n",
       "      <td>40995.825050</td>\n",
       "      <td>3.443346</td>\n",
       "    </tr>\n",
       "    <tr>\n",
       "      <th>5.0</th>\n",
       "      <td>What Women Want</td>\n",
       "      <td>Pirates of the Caribbean: The Curse of the Bla...</td>\n",
       "      <td>Gone in 60 Seconds</td>\n",
       "      <td>61.079301</td>\n",
       "      <td>67488.465907</td>\n",
       "      <td>3.675819</td>\n",
       "    </tr>\n",
       "    <tr>\n",
       "      <th>6.0</th>\n",
       "      <td>Pirates of the Caribbean: The Curse of the Bla...</td>\n",
       "      <td>Speed</td>\n",
       "      <td>The Sixth Sense</td>\n",
       "      <td>439.237346</td>\n",
       "      <td>37667.369289</td>\n",
       "      <td>3.583555</td>\n",
       "    </tr>\n",
       "    <tr>\n",
       "      <th>7.0</th>\n",
       "      <td>Pirates of the Caribbean: The Curse of the Bla...</td>\n",
       "      <td>Bruce Almighty</td>\n",
       "      <td>Lord of the Rings: The Fellowship of the Ring</td>\n",
       "      <td>151.493884</td>\n",
       "      <td>57395.626090</td>\n",
       "      <td>3.651269</td>\n",
       "    </tr>\n",
       "    <tr>\n",
       "      <th>99.0</th>\n",
       "      <td>Empire Falls</td>\n",
       "      <td>His Secret Life</td>\n",
       "      <td>The Battle of Algiers</td>\n",
       "      <td>5.505129</td>\n",
       "      <td>1709.061989</td>\n",
       "      <td>3.715624</td>\n",
       "    </tr>\n",
       "  </tbody>\n",
       "</table>\n",
       "</div>"
      ],
      "text/plain": [
       "                                               Top Movie 1  \\\n",
       "Cluster                                                      \n",
       "0.0                                     Gone in 60 Seconds   \n",
       "1.0                                        American Beauty   \n",
       "2.0      Pirates of the Caribbean: The Curse of the Bla...   \n",
       "3.0      Pirates of the Caribbean: The Curse of the Bla...   \n",
       "4.0                                        American Beauty   \n",
       "5.0                                        What Women Want   \n",
       "6.0      Pirates of the Caribbean: The Curse of the Bla...   \n",
       "7.0      Pirates of the Caribbean: The Curse of the Bla...   \n",
       "99.0                                          Empire Falls   \n",
       "\n",
       "                                               Top Movie 2  \\\n",
       "Cluster                                                      \n",
       "0.0                                        What Women Want   \n",
       "1.0                                   Being John Malkovich   \n",
       "2.0                                        What Women Want   \n",
       "3.0                                            Man on Fire   \n",
       "4.0                               The Silence of the Lambs   \n",
       "5.0      Pirates of the Caribbean: The Curse of the Bla...   \n",
       "6.0                                                  Speed   \n",
       "7.0                                         Bruce Almighty   \n",
       "99.0                                       His Secret Life   \n",
       "\n",
       "                                               Top Movie 3  \\\n",
       "Cluster                                                      \n",
       "0.0                                    The Wedding Planner   \n",
       "1.0      Pirates of the Caribbean: The Curse of the Bla...   \n",
       "2.0                                        Erin Brockovich   \n",
       "3.0                                   The Bourne Supremacy   \n",
       "4.0                                        The Sixth Sense   \n",
       "5.0                                     Gone in 60 Seconds   \n",
       "6.0                                        The Sixth Sense   \n",
       "7.0          Lord of the Rings: The Fellowship of the Ring   \n",
       "99.0                                 The Battle of Algiers   \n",
       "\n",
       "         Average Review Count  Average Review Count per Movie  \\\n",
       "Cluster                                                         \n",
       "0.0                 24.622804                    62097.228741   \n",
       "1.0                106.401336                    54970.103202   \n",
       "2.0                158.463017                    56517.301854   \n",
       "3.0                 62.911289                    69791.729144   \n",
       "4.0                293.766760                    40995.825050   \n",
       "5.0                 61.079301                    67488.465907   \n",
       "6.0                439.237346                    37667.369289   \n",
       "7.0                151.493884                    57395.626090   \n",
       "99.0                 5.505129                     1709.061989   \n",
       "\n",
       "         Average User Rating  \n",
       "Cluster                       \n",
       "0.0                 3.591293  \n",
       "1.0                 3.582122  \n",
       "2.0                 3.640403  \n",
       "3.0                 3.603279  \n",
       "4.0                 3.443346  \n",
       "5.0                 3.675819  \n",
       "6.0                 3.583555  \n",
       "7.0                 3.651269  \n",
       "99.0                3.715624  "
      ]
     },
     "metadata": {},
     "output_type": "display_data"
    }
   ],
   "source": [
    "\n",
    "\n",
    "unique_clusters = train_set.user_cluster.unique()\n",
    "results = []\n",
    "\n",
    "# Collect info about each cluster\n",
    "\n",
    "for i, cluster in enumerate(unique_clusters):\n",
    "    cluster_records = train_set.loc[train_set.user_cluster == cluster]\n",
    "    top_3_movies = cluster_records['movie_id'].value_counts()[:3].index.values\n",
    "    movies_names = [movies.loc[movies.movie_id == movie_id, 'title'].values[0] for movie_id in top_3_movies]\n",
    "    avg_review_count = cluster_records.count_user_id_rating.mean()\n",
    "    avg_review_count_movie = cluster_records.count_movie_id_rating.mean()\n",
    "    avg_user_rating = cluster_records.mean_user_id_rating.mean()\n",
    "\n",
    "    results.append({\n",
    "        'Cluster': cluster,\n",
    "        'Top Movie 1': movies_names[0],\n",
    "        'Top Movie 2': movies_names[1],\n",
    "        'Top Movie 3': movies_names[2],\n",
    "        'Average Review Count': avg_review_count,\n",
    "        'Average Review Count per Movie': avg_review_count_movie,\n",
    "        'Average User Rating': avg_user_rating\n",
    "    })\n",
    "\n",
    "results_df = pd.DataFrame(results)\n",
    "results_df.set_index('Cluster', inplace=True)\n",
    "display(results_df.sort_values(by=\"Cluster\"))\n",
    "\n",
    "    "
   ]
  }
 ],
 "metadata": {
  "kernelspec": {
   "display_name": "Python 3",
   "language": "python",
   "name": "python3"
  },
  "language_info": {
   "codemirror_mode": {
    "name": "ipython",
    "version": 3
   },
   "file_extension": ".py",
   "mimetype": "text/x-python",
   "name": "python",
   "nbconvert_exporter": "python",
   "pygments_lexer": "ipython3",
   "version": "3.10.10"
  },
  "papermill": {
   "default_parameters": {},
   "duration": 8795.644707,
   "end_time": "2023-05-10T22:55:58.907634",
   "environment_variables": {},
   "exception": null,
   "input_path": "__notebook__.ipynb",
   "output_path": "__notebook__.ipynb",
   "parameters": {},
   "start_time": "2023-05-10T20:29:23.262927",
   "version": "2.4.0"
  }
 },
 "nbformat": 4,
 "nbformat_minor": 5
}
